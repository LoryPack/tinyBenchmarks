{
 "cells": [
  {
   "cell_type": "markdown",
   "id": "aeb0a714-9d15-41bc-ac06-ce5a1e448b1d",
   "metadata": {},
   "source": [
    "# Estimating performance\n",
    "\n",
    "In this notebook, we show how to obtain estimates for LLM performance by combining anchor points and IRT."
   ]
  },
  {
   "cell_type": "markdown",
   "id": "7008d96d-1ee5-44cf-91cb-293fb3e048bf",
   "metadata": {},
   "source": [
    "## Preparing data"
   ]
  },
  {
   "cell_type": "markdown",
   "id": "b85d9b93-5059-416c-8a53-e3b4cc24a904",
   "metadata": {},
   "source": [
    "Loading packages"
   ]
  },
  {
   "cell_type": "code",
   "execution_count": 2,
   "id": "7892164d-f5bb-4cef-9f4f-685a9af85679",
   "metadata": {
    "ExecuteTime": {
     "end_time": "2024-03-19T14:55:59.251068Z",
     "start_time": "2024-03-19T14:55:59.232462Z"
    }
   },
   "outputs": [],
   "source": [
    "import numpy as np\n",
    "import pickle\n",
    "from tqdm import tqdm\n",
    "from irt import *\n",
    "from utils import *\n",
    "\n",
    "random_state = 42"
   ]
  },
  {
   "cell_type": "markdown",
   "id": "3ebb8ce2-1851-4131-8d35-36214be71085",
   "metadata": {},
   "source": [
    "The leaderboard dataset we will use is composed by six scenarios (sub-datasets):\n",
    "1. TruthfulQA\n",
    "1. GSM8K\n",
    "1. Winogrande\n",
    "1. ARC\n",
    "1. HellaSwag\n",
    "1. MMLU\n",
    "\n",
    "MMLU is further divided into sub-scenarios (e.g., abstract algebra, anatomy, etc). Let's check scenarios and sub-scenarios:"
   ]
  },
  {
   "cell_type": "code",
   "execution_count": 3,
   "id": "26499fc1-2bda-44b2-9131-e78d16f7f77d",
   "metadata": {
    "ExecuteTime": {
     "end_time": "2024-03-19T14:56:01.956318Z",
     "start_time": "2024-03-19T14:56:01.933020Z"
    }
   },
   "outputs": [
    {
     "data": {
      "text/plain": "{'harness_truthfulqa_mc_0': ['harness_truthfulqa_mc_0'],\n 'gsm8k': ['harness_gsm8k_5'],\n 'winogrande': ['harness_winogrande_5'],\n 'arc': ['harness_arc_challenge_25'],\n 'hellaswag': ['harness_hellaswag_10'],\n 'mmlu': ['harness_hendrycksTest_abstract_algebra_5',\n  'harness_hendrycksTest_anatomy_5',\n  'harness_hendrycksTest_astronomy_5',\n  'harness_hendrycksTest_business_ethics_5',\n  'harness_hendrycksTest_clinical_knowledge_5',\n  'harness_hendrycksTest_college_biology_5',\n  'harness_hendrycksTest_college_chemistry_5',\n  'harness_hendrycksTest_college_computer_science_5',\n  'harness_hendrycksTest_college_mathematics_5',\n  'harness_hendrycksTest_college_medicine_5',\n  'harness_hendrycksTest_college_physics_5',\n  'harness_hendrycksTest_computer_security_5',\n  'harness_hendrycksTest_conceptual_physics_5',\n  'harness_hendrycksTest_econometrics_5',\n  'harness_hendrycksTest_electrical_engineering_5',\n  'harness_hendrycksTest_elementary_mathematics_5',\n  'harness_hendrycksTest_formal_logic_5',\n  'harness_hendrycksTest_global_facts_5',\n  'harness_hendrycksTest_high_school_biology_5',\n  'harness_hendrycksTest_high_school_chemistry_5',\n  'harness_hendrycksTest_high_school_computer_science_5',\n  'harness_hendrycksTest_high_school_european_history_5',\n  'harness_hendrycksTest_high_school_geography_5',\n  'harness_hendrycksTest_high_school_government_and_politics_5',\n  'harness_hendrycksTest_high_school_macroeconomics_5',\n  'harness_hendrycksTest_high_school_mathematics_5',\n  'harness_hendrycksTest_high_school_microeconomics_5',\n  'harness_hendrycksTest_high_school_physics_5',\n  'harness_hendrycksTest_high_school_psychology_5',\n  'harness_hendrycksTest_high_school_statistics_5',\n  'harness_hendrycksTest_high_school_us_history_5',\n  'harness_hendrycksTest_high_school_world_history_5',\n  'harness_hendrycksTest_human_aging_5',\n  'harness_hendrycksTest_human_sexuality_5',\n  'harness_hendrycksTest_international_law_5',\n  'harness_hendrycksTest_jurisprudence_5',\n  'harness_hendrycksTest_logical_fallacies_5',\n  'harness_hendrycksTest_machine_learning_5',\n  'harness_hendrycksTest_management_5',\n  'harness_hendrycksTest_marketing_5',\n  'harness_hendrycksTest_medical_genetics_5',\n  'harness_hendrycksTest_miscellaneous_5',\n  'harness_hendrycksTest_moral_disputes_5',\n  'harness_hendrycksTest_moral_scenarios_5',\n  'harness_hendrycksTest_nutrition_5',\n  'harness_hendrycksTest_philosophy_5',\n  'harness_hendrycksTest_prehistory_5',\n  'harness_hendrycksTest_professional_accounting_5',\n  'harness_hendrycksTest_professional_law_5',\n  'harness_hendrycksTest_professional_medicine_5',\n  'harness_hendrycksTest_professional_psychology_5',\n  'harness_hendrycksTest_public_relations_5',\n  'harness_hendrycksTest_security_studies_5',\n  'harness_hendrycksTest_sociology_5',\n  'harness_hendrycksTest_us_foreign_policy_5',\n  'harness_hendrycksTest_virology_5',\n  'harness_hendrycksTest_world_religions_5']}"
     },
     "execution_count": 3,
     "metadata": {},
     "output_type": "execute_result"
    }
   ],
   "source": [
    "scenarios"
   ]
  },
  {
   "cell_type": "markdown",
   "id": "b34e5620-bd45-4985-b390-a154843b4d6c",
   "metadata": {},
   "source": [
    "Loading leaderboard data:"
   ]
  },
  {
   "cell_type": "code",
   "execution_count": 4,
   "id": "2ca68f5c-49de-4f75-92e5-de639059cec1",
   "metadata": {
    "ExecuteTime": {
     "end_time": "2024-03-19T14:56:05.063049Z",
     "start_time": "2024-03-19T14:56:04.926301Z"
    }
   },
   "outputs": [],
   "source": [
    "with open('data/lb.pickle', 'rb') as handle:\n",
    "    data = pickle.load(handle)"
   ]
  },
  {
   "cell_type": "markdown",
   "id": "6f14f180-d322-4cd5-8d0c-4ae4fef04127",
   "metadata": {},
   "source": [
    "In this dataset, we have data from 395 models. Let's see the names of some of them below"
   ]
  },
  {
   "cell_type": "code",
   "execution_count": 7,
   "id": "5d6c4201-0675-42e5-8a7a-8cf75592e661",
   "metadata": {
    "ExecuteTime": {
     "end_time": "2024-03-19T14:56:58.246426Z",
     "start_time": "2024-03-19T14:56:58.236781Z"
    }
   },
   "outputs": [
    {
     "data": {
      "text/plain": "(395,\n ['open-llm-leaderboard/details_zhengr__MixTAO-7Bx2-MoE-DPO',\n  'open-llm-leaderboard/details_alignment-handbook__zephyr-7b-sft-full',\n  'open-llm-leaderboard/details_rombodawg__Leaderboard-killer-MoE_4x7b',\n  'open-llm-leaderboard/details_FelixChao__ExtremeDolphin-MoE',\n  'open-llm-leaderboard/details_LoSboccacc__orthogonal-2x7B-base',\n  'open-llm-leaderboard/details_moreh__MoMo-70B-lora-1.8.6-DPO',\n  'open-llm-leaderboard/details_deepseek-ai__deepseek-moe-16b-base',\n  'open-llm-leaderboard/details_Swisslex__Mixtral-Orca-v0.1',\n  'open-llm-leaderboard/details_wang7776__Mistral-7B-Instruct-v0.2-sparsity-20',\n  'open-llm-leaderboard/details_nfaheem__Marcoroni-7b-DPO-Merge'])"
     },
     "execution_count": 7,
     "metadata": {},
     "output_type": "execute_result"
    }
   ],
   "source": [
    "len(data['models']), data['models'][:10]"
   ]
  },
  {
   "cell_type": "code",
   "outputs": [
    {
     "data": {
      "text/plain": "{'harness_hendrycksTest_abstract_algebra_5': {'correctness': array([[0., 0., 0., ..., 0., 0., 1.],\n         [0., 0., 0., ..., 0., 0., 0.],\n         [1., 1., 1., ..., 1., 1., 1.],\n         ...,\n         [0., 1., 1., ..., 0., 0., 1.],\n         [0., 0., 0., ..., 0., 0., 1.],\n         [0., 0., 1., ..., 0., 1., 0.]])},\n 'harness_hendrycksTest_anatomy_5': {'correctness': array([[0., 0., 0., ..., 1., 0., 0.],\n         [1., 1., 1., ..., 0., 0., 0.],\n         [1., 1., 1., ..., 1., 1., 0.],\n         ...,\n         [0., 0., 0., ..., 0., 0., 0.],\n         [1., 1., 1., ..., 0., 0., 0.],\n         [1., 1., 1., ..., 1., 1., 1.]])},\n 'harness_hendrycksTest_astronomy_5': {'correctness': array([[0., 1., 0., ..., 0., 1., 0.],\n         [1., 1., 1., ..., 1., 1., 1.],\n         [0., 1., 0., ..., 1., 0., 0.],\n         ...,\n         [1., 1., 1., ..., 1., 1., 1.],\n         [1., 1., 1., ..., 0., 1., 0.],\n         [0., 0., 0., ..., 0., 0., 0.]])},\n 'harness_hendrycksTest_business_ethics_5': {'correctness': array([[1., 0., 1., ..., 1., 1., 0.],\n         [0., 0., 0., ..., 0., 0., 0.],\n         [0., 0., 0., ..., 0., 0., 0.],\n         ...,\n         [1., 1., 1., ..., 1., 1., 1.],\n         [1., 1., 1., ..., 0., 0., 1.],\n         [0., 0., 1., ..., 0., 0., 0.]])},\n 'harness_hendrycksTest_clinical_knowledge_5': {'correctness': array([[1., 1., 1., ..., 1., 1., 1.],\n         [1., 0., 1., ..., 0., 0., 0.],\n         [1., 1., 1., ..., 1., 1., 1.],\n         ...,\n         [1., 1., 1., ..., 0., 1., 0.],\n         [1., 1., 1., ..., 0., 1., 0.],\n         [1., 1., 1., ..., 0., 0., 0.]])},\n 'harness_hendrycksTest_college_biology_5': {'correctness': array([[1., 0., 0., ..., 0., 0., 0.],\n         [1., 1., 1., ..., 1., 1., 1.],\n         [1., 1., 1., ..., 0., 1., 0.],\n         ...,\n         [1., 1., 1., ..., 1., 1., 1.],\n         [1., 1., 1., ..., 1., 1., 1.],\n         [1., 1., 1., ..., 0., 1., 1.]])},\n 'harness_hendrycksTest_college_chemistry_5': {'correctness': array([[1., 0., 1., ..., 0., 1., 0.],\n         [0., 0., 0., ..., 0., 0., 0.],\n         [1., 1., 1., ..., 0., 1., 1.],\n         ...,\n         [0., 1., 1., ..., 1., 1., 0.],\n         [0., 0., 0., ..., 1., 0., 0.],\n         [1., 1., 1., ..., 0., 0., 0.]])},\n 'harness_hendrycksTest_college_computer_science_5': {'correctness': array([[0., 0., 0., ..., 0., 0., 0.],\n         [1., 1., 1., ..., 0., 1., 0.],\n         [0., 1., 0., ..., 1., 1., 0.],\n         ...,\n         [1., 1., 1., ..., 0., 1., 0.],\n         [0., 0., 0., ..., 0., 0., 0.],\n         [0., 1., 1., ..., 1., 1., 1.]])},\n 'harness_hendrycksTest_college_mathematics_5': {'correctness': array([[0., 1., 0., ..., 0., 0., 1.],\n         [1., 1., 1., ..., 0., 1., 1.],\n         [0., 0., 0., ..., 1., 0., 0.],\n         ...,\n         [1., 0., 0., ..., 1., 0., 1.],\n         [0., 0., 0., ..., 0., 1., 0.],\n         [0., 0., 0., ..., 0., 0., 0.]])},\n 'harness_hendrycksTest_college_medicine_5': {'correctness': array([[1., 1., 1., ..., 1., 1., 1.],\n         [0., 1., 0., ..., 0., 1., 1.],\n         [1., 1., 1., ..., 1., 1., 1.],\n         ...,\n         [1., 1., 1., ..., 1., 1., 1.],\n         [0., 0., 1., ..., 1., 0., 0.],\n         [0., 0., 0., ..., 0., 0., 0.]])},\n 'harness_hendrycksTest_college_physics_5': {'correctness': array([[0., 1., 0., ..., 0., 1., 1.],\n         [0., 0., 0., ..., 0., 0., 0.],\n         [0., 0., 0., ..., 0., 0., 0.],\n         ...,\n         [1., 0., 1., ..., 0., 0., 0.],\n         [1., 1., 1., ..., 0., 1., 0.],\n         [0., 0., 0., ..., 0., 0., 1.]])},\n 'harness_hendrycksTest_computer_security_5': {'correctness': array([[1., 1., 1., ..., 1., 1., 1.],\n         [1., 1., 1., ..., 1., 1., 1.],\n         [1., 1., 1., ..., 1., 1., 1.],\n         ...,\n         [1., 1., 1., ..., 1., 1., 1.],\n         [1., 1., 1., ..., 0., 1., 1.],\n         [1., 1., 1., ..., 0., 1., 0.]])},\n 'harness_hendrycksTest_conceptual_physics_5': {'correctness': array([[1., 0., 1., ..., 1., 1., 1.],\n         [1., 1., 1., ..., 1., 1., 1.],\n         [1., 1., 1., ..., 1., 1., 1.],\n         ...,\n         [1., 1., 1., ..., 0., 1., 0.],\n         [0., 0., 1., ..., 0., 0., 0.],\n         [1., 1., 1., ..., 1., 1., 1.]])},\n 'harness_hendrycksTest_econometrics_5': {'correctness': array([[0., 0., 0., ..., 0., 0., 0.],\n         [1., 1., 1., ..., 0., 0., 1.],\n         [1., 0., 0., ..., 0., 0., 0.],\n         ...,\n         [1., 0., 1., ..., 0., 0., 0.],\n         [1., 1., 0., ..., 0., 0., 0.],\n         [1., 1., 1., ..., 1., 0., 0.]])},\n 'harness_hendrycksTest_electrical_engineering_5': {'correctness': array([[1., 0., 0., ..., 0., 0., 0.],\n         [1., 0., 0., ..., 0., 0., 0.],\n         [1., 1., 1., ..., 1., 1., 1.],\n         ...,\n         [0., 1., 0., ..., 0., 0., 0.],\n         [0., 0., 0., ..., 1., 0., 0.],\n         [1., 0., 1., ..., 1., 1., 0.]])},\n 'harness_hendrycksTest_elementary_mathematics_5': {'correctness': array([[1., 1., 1., ..., 0., 1., 1.],\n         [1., 1., 1., ..., 0., 0., 1.],\n         [1., 1., 1., ..., 1., 1., 1.],\n         ...,\n         [0., 0., 0., ..., 0., 1., 0.],\n         [1., 1., 1., ..., 1., 1., 1.],\n         [0., 0., 0., ..., 0., 1., 0.]])},\n 'harness_hendrycksTest_formal_logic_5': {'correctness': array([[1., 1., 1., ..., 1., 1., 1.],\n         [0., 0., 0., ..., 0., 0., 0.],\n         [0., 0., 0., ..., 1., 0., 0.],\n         ...,\n         [0., 0., 0., ..., 0., 0., 0.],\n         [0., 0., 1., ..., 0., 0., 0.],\n         [0., 0., 0., ..., 0., 0., 0.]])},\n 'harness_hendrycksTest_global_facts_5': {'correctness': array([[0., 1., 0., ..., 0., 0., 0.],\n         [1., 0., 1., ..., 0., 0., 0.],\n         [1., 0., 0., ..., 1., 0., 0.],\n         ...,\n         [0., 1., 1., ..., 1., 0., 0.],\n         [0., 1., 1., ..., 1., 1., 1.],\n         [1., 1., 1., ..., 1., 1., 1.]])},\n 'harness_hendrycksTest_high_school_biology_5': {'correctness': array([[1., 1., 1., ..., 1., 1., 1.],\n         [1., 1., 1., ..., 1., 1., 1.],\n         [1., 1., 1., ..., 0., 1., 1.],\n         ...,\n         [1., 1., 1., ..., 1., 1., 1.],\n         [1., 1., 1., ..., 0., 0., 1.],\n         [1., 1., 1., ..., 1., 1., 0.]])},\n 'harness_hendrycksTest_high_school_chemistry_5': {'correctness': array([[0., 1., 1., ..., 1., 1., 1.],\n         [0., 0., 0., ..., 0., 0., 0.],\n         [0., 1., 0., ..., 1., 0., 1.],\n         ...,\n         [1., 1., 1., ..., 0., 1., 0.],\n         [1., 1., 1., ..., 1., 1., 1.],\n         [1., 1., 1., ..., 1., 1., 1.]])},\n 'harness_hendrycksTest_high_school_computer_science_5': {'correctness': array([[0., 0., 0., ..., 1., 0., 1.],\n         [1., 1., 1., ..., 0., 1., 0.],\n         [1., 1., 1., ..., 0., 0., 1.],\n         ...,\n         [1., 0., 1., ..., 0., 0., 0.],\n         [1., 1., 1., ..., 1., 1., 1.],\n         [0., 0., 0., ..., 0., 0., 0.]])},\n 'harness_hendrycksTest_high_school_european_history_5': {'correctness': array([[0., 0., 0., ..., 0., 0., 0.],\n         [1., 1., 1., ..., 1., 1., 1.],\n         [1., 1., 1., ..., 1., 1., 1.],\n         ...,\n         [1., 1., 1., ..., 1., 1., 1.],\n         [0., 1., 0., ..., 0., 1., 1.],\n         [1., 1., 1., ..., 1., 1., 1.]])},\n 'harness_hendrycksTest_high_school_geography_5': {'correctness': array([[1., 1., 1., ..., 0., 1., 1.],\n         [1., 1., 1., ..., 1., 1., 1.],\n         [1., 1., 1., ..., 0., 1., 1.],\n         ...,\n         [0., 1., 0., ..., 0., 1., 0.],\n         [1., 1., 1., ..., 0., 1., 1.],\n         [1., 1., 1., ..., 0., 1., 1.]])},\n 'harness_hendrycksTest_high_school_government_and_politics_5': {'correctness': array([[1., 1., 1., ..., 1., 1., 1.],\n         [1., 1., 1., ..., 1., 1., 1.],\n         [1., 1., 1., ..., 1., 1., 1.],\n         ...,\n         [1., 1., 1., ..., 1., 1., 1.],\n         [1., 1., 1., ..., 0., 1., 1.],\n         [1., 1., 1., ..., 0., 1., 0.]])},\n 'harness_hendrycksTest_high_school_macroeconomics_5': {'correctness': array([[1., 1., 1., ..., 0., 1., 1.],\n         [1., 1., 1., ..., 1., 1., 1.],\n         [1., 1., 1., ..., 1., 0., 1.],\n         ...,\n         [1., 0., 1., ..., 1., 0., 0.],\n         [1., 1., 1., ..., 0., 1., 1.],\n         [0., 0., 0., ..., 0., 1., 0.]])},\n 'harness_hendrycksTest_high_school_mathematics_5': {'correctness': array([[0., 0., 0., ..., 1., 1., 0.],\n         [0., 0., 0., ..., 0., 0., 0.],\n         [0., 0., 0., ..., 1., 0., 0.],\n         ...,\n         [0., 0., 0., ..., 0., 0., 0.],\n         [0., 0., 0., ..., 0., 0., 0.],\n         [1., 0., 1., ..., 0., 0., 1.]])},\n 'harness_hendrycksTest_high_school_microeconomics_5': {'correctness': array([[1., 1., 1., ..., 1., 1., 1.],\n         [1., 1., 1., ..., 1., 1., 1.],\n         [1., 1., 1., ..., 0., 0., 1.],\n         ...,\n         [1., 1., 1., ..., 1., 1., 0.],\n         [0., 0., 0., ..., 1., 0., 0.],\n         [1., 1., 1., ..., 1., 1., 1.]])},\n 'harness_hendrycksTest_high_school_physics_5': {'correctness': array([[1., 0., 1., ..., 0., 1., 0.],\n         [0., 0., 0., ..., 0., 0., 0.],\n         [0., 0., 0., ..., 1., 0., 1.],\n         ...,\n         [1., 0., 0., ..., 0., 0., 0.],\n         [1., 1., 1., ..., 0., 1., 0.],\n         [0., 0., 0., ..., 0., 0., 0.]])},\n 'harness_hendrycksTest_high_school_psychology_5': {'correctness': array([[1., 1., 1., ..., 1., 1., 1.],\n         [1., 1., 1., ..., 1., 1., 1.],\n         [1., 1., 1., ..., 1., 1., 1.],\n         ...,\n         [1., 1., 1., ..., 0., 1., 1.],\n         [1., 1., 0., ..., 1., 1., 1.],\n         [1., 1., 1., ..., 1., 1., 1.]])},\n 'harness_hendrycksTest_high_school_statistics_5': {'correctness': array([[0., 0., 0., ..., 0., 0., 1.],\n         [0., 1., 1., ..., 1., 1., 1.],\n         [1., 1., 1., ..., 0., 0., 0.],\n         ...,\n         [1., 0., 1., ..., 0., 0., 0.],\n         [0., 0., 0., ..., 1., 0., 1.],\n         [1., 1., 1., ..., 0., 1., 0.]])},\n 'harness_hendrycksTest_high_school_us_history_5': {'correctness': array([[1., 1., 1., ..., 0., 1., 1.],\n         [1., 1., 1., ..., 1., 1., 1.],\n         [1., 1., 1., ..., 1., 1., 1.],\n         ...,\n         [0., 0., 0., ..., 0., 0., 0.],\n         [1., 1., 1., ..., 1., 1., 1.],\n         [1., 0., 1., ..., 0., 0., 0.]])},\n 'harness_hendrycksTest_high_school_world_history_5': {'correctness': array([[1., 1., 1., ..., 0., 1., 1.],\n         [1., 1., 1., ..., 0., 1., 0.],\n         [1., 1., 1., ..., 1., 1., 1.],\n         ...,\n         [1., 1., 1., ..., 1., 0., 1.],\n         [1., 1., 1., ..., 1., 1., 1.],\n         [1., 1., 1., ..., 0., 1., 1.]])},\n 'harness_hendrycksTest_human_aging_5': {'correctness': array([[1., 1., 1., ..., 1., 1., 1.],\n         [1., 1., 1., ..., 1., 1., 1.],\n         [0., 0., 1., ..., 1., 1., 1.],\n         ...,\n         [1., 0., 1., ..., 0., 1., 0.],\n         [1., 1., 1., ..., 1., 1., 1.],\n         [1., 1., 1., ..., 1., 1., 1.]])},\n 'harness_hendrycksTest_human_sexuality_5': {'correctness': array([[1., 1., 1., ..., 1., 1., 1.],\n         [1., 1., 1., ..., 0., 0., 0.],\n         [1., 1., 1., ..., 0., 1., 0.],\n         ...,\n         [1., 0., 1., ..., 1., 0., 0.],\n         [1., 1., 1., ..., 0., 1., 0.],\n         [1., 1., 1., ..., 1., 1., 1.]])},\n 'harness_hendrycksTest_international_law_5': {'correctness': array([[1., 1., 1., ..., 1., 1., 1.],\n         [0., 0., 0., ..., 0., 0., 0.],\n         [0., 0., 0., ..., 1., 1., 1.],\n         ...,\n         [1., 1., 1., ..., 1., 1., 1.],\n         [0., 0., 0., ..., 0., 0., 0.],\n         [1., 1., 1., ..., 1., 1., 0.]])},\n 'harness_hendrycksTest_jurisprudence_5': {'correctness': array([[0., 0., 0., ..., 0., 0., 0.],\n         [1., 1., 1., ..., 0., 1., 0.],\n         [1., 0., 1., ..., 1., 0., 1.],\n         ...,\n         [1., 0., 1., ..., 0., 1., 1.],\n         [1., 1., 1., ..., 0., 1., 0.],\n         [1., 1., 1., ..., 1., 1., 1.]])},\n 'harness_hendrycksTest_logical_fallacies_5': {'correctness': array([[1., 0., 1., ..., 0., 1., 0.],\n         [0., 0., 0., ..., 0., 0., 0.],\n         [0., 0., 0., ..., 1., 1., 0.],\n         ...,\n         [1., 1., 1., ..., 1., 1., 1.],\n         [1., 0., 1., ..., 0., 0., 0.],\n         [1., 1., 1., ..., 1., 1., 1.]])},\n 'harness_hendrycksTest_machine_learning_5': {'correctness': array([[0., 0., 0., ..., 0., 0., 1.],\n         [1., 1., 1., ..., 0., 0., 1.],\n         [1., 1., 1., ..., 0., 0., 0.],\n         ...,\n         [1., 1., 1., ..., 0., 0., 1.],\n         [1., 1., 1., ..., 1., 1., 1.],\n         [0., 0., 0., ..., 0., 0., 0.]])},\n 'harness_hendrycksTest_management_5': {'correctness': array([[1., 1., 1., ..., 1., 1., 1.],\n         [1., 0., 0., ..., 0., 0., 0.],\n         [1., 1., 1., ..., 1., 1., 1.],\n         ...,\n         [1., 1., 1., ..., 1., 0., 1.],\n         [1., 0., 0., ..., 1., 1., 0.],\n         [1., 1., 1., ..., 1., 1., 1.]])},\n 'harness_hendrycksTest_marketing_5': {'correctness': array([[1., 1., 1., ..., 1., 1., 1.],\n         [1., 1., 1., ..., 1., 1., 1.],\n         [1., 0., 0., ..., 0., 1., 0.],\n         ...,\n         [1., 1., 1., ..., 1., 1., 1.],\n         [1., 1., 1., ..., 1., 1., 1.],\n         [1., 1., 1., ..., 0., 1., 0.]])},\n 'harness_hendrycksTest_medical_genetics_5': {'correctness': array([[1., 1., 1., ..., 0., 1., 0.],\n         [0., 0., 0., ..., 0., 1., 0.],\n         [1., 1., 1., ..., 1., 0., 1.],\n         ...,\n         [0., 0., 1., ..., 0., 0., 0.],\n         [1., 1., 1., ..., 0., 1., 1.],\n         [1., 1., 1., ..., 1., 1., 1.]])},\n 'harness_hendrycksTest_miscellaneous_5': {'correctness': array([[1., 1., 1., ..., 1., 1., 1.],\n         [1., 1., 1., ..., 1., 1., 1.],\n         [1., 1., 1., ..., 1., 1., 1.],\n         ...,\n         [1., 1., 1., ..., 1., 1., 1.],\n         [1., 1., 1., ..., 0., 1., 1.],\n         [1., 1., 1., ..., 0., 0., 0.]])},\n 'harness_hendrycksTest_moral_disputes_5': {'correctness': array([[0., 1., 1., ..., 0., 0., 1.],\n         [1., 1., 1., ..., 1., 1., 1.],\n         [1., 1., 1., ..., 0., 1., 1.],\n         ...,\n         [0., 0., 0., ..., 0., 0., 0.],\n         [0., 0., 0., ..., 1., 0., 1.],\n         [1., 1., 1., ..., 1., 1., 1.]])},\n 'harness_hendrycksTest_moral_scenarios_5': {'correctness': array([[1., 0., 1., ..., 0., 1., 0.],\n         [1., 0., 0., ..., 0., 1., 0.],\n         [1., 1., 1., ..., 1., 1., 1.],\n         ...,\n         [0., 1., 1., ..., 1., 1., 1.],\n         [0., 1., 0., ..., 1., 0., 1.],\n         [0., 0., 0., ..., 0., 0., 0.]])},\n 'harness_hendrycksTest_nutrition_5': {'correctness': array([[0., 0., 0., ..., 0., 0., 1.],\n         [1., 1., 1., ..., 1., 1., 1.],\n         [0., 0., 1., ..., 1., 1., 0.],\n         ...,\n         [1., 1., 1., ..., 1., 0., 1.],\n         [1., 1., 1., ..., 1., 1., 1.],\n         [1., 1., 1., ..., 1., 1., 1.]])},\n 'harness_hendrycksTest_philosophy_5': {'correctness': array([[0., 0., 0., ..., 0., 0., 0.],\n         [1., 1., 1., ..., 1., 1., 1.],\n         [1., 1., 1., ..., 1., 1., 1.],\n         ...,\n         [1., 1., 1., ..., 1., 1., 1.],\n         [0., 0., 0., ..., 0., 1., 0.],\n         [1., 1., 1., ..., 1., 1., 1.]])},\n 'harness_hendrycksTest_prehistory_5': {'correctness': array([[1., 1., 1., ..., 0., 0., 0.],\n         [1., 0., 1., ..., 0., 0., 0.],\n         [1., 1., 1., ..., 1., 1., 1.],\n         ...,\n         [0., 0., 0., ..., 0., 0., 0.],\n         [1., 1., 1., ..., 0., 1., 0.],\n         [0., 0., 1., ..., 1., 0., 0.]])},\n 'harness_hendrycksTest_professional_accounting_5': {'correctness': array([[1., 1., 1., ..., 1., 1., 0.],\n         [0., 1., 1., ..., 0., 1., 0.],\n         [0., 0., 0., ..., 0., 0., 0.],\n         ...,\n         [0., 0., 1., ..., 1., 1., 1.],\n         [1., 1., 0., ..., 1., 0., 0.],\n         [0., 0., 0., ..., 0., 0., 0.]])},\n 'harness_hendrycksTest_professional_law_5': {'correctness': array([[1., 0., 1., ..., 0., 1., 0.],\n         [0., 0., 0., ..., 0., 0., 0.],\n         [0., 0., 1., ..., 1., 1., 0.],\n         ...,\n         [0., 1., 1., ..., 1., 1., 1.],\n         [1., 1., 1., ..., 0., 1., 1.],\n         [0., 0., 0., ..., 0., 0., 0.]])},\n 'harness_hendrycksTest_professional_medicine_5': {'correctness': array([[0., 0., 1., ..., 0., 0., 1.],\n         [1., 0., 1., ..., 1., 1., 1.],\n         [1., 1., 1., ..., 0., 1., 0.],\n         ...,\n         [0., 1., 0., ..., 0., 0., 0.],\n         [1., 1., 1., ..., 0., 1., 0.],\n         [1., 1., 1., ..., 1., 1., 0.]])},\n 'harness_hendrycksTest_professional_psychology_5': {'correctness': array([[1., 1., 1., ..., 0., 0., 1.],\n         [1., 1., 1., ..., 0., 0., 0.],\n         [1., 1., 1., ..., 1., 1., 1.],\n         ...,\n         [0., 1., 1., ..., 1., 0., 0.],\n         [1., 0., 1., ..., 1., 0., 1.],\n         [1., 1., 0., ..., 0., 1., 1.]])},\n 'harness_hendrycksTest_public_relations_5': {'correctness': array([[1., 0., 1., ..., 0., 1., 0.],\n         [0., 0., 0., ..., 1., 0., 0.],\n         [1., 1., 1., ..., 1., 1., 1.],\n         ...,\n         [1., 1., 1., ..., 1., 1., 1.],\n         [0., 0., 0., ..., 1., 0., 0.],\n         [1., 1., 1., ..., 1., 1., 1.]])},\n 'harness_hendrycksTest_security_studies_5': {'correctness': array([[0., 0., 0., ..., 0., 1., 0.],\n         [1., 0., 1., ..., 0., 1., 1.],\n         [1., 1., 1., ..., 1., 1., 0.],\n         ...,\n         [1., 1., 1., ..., 1., 1., 1.],\n         [1., 1., 1., ..., 1., 0., 1.],\n         [1., 1., 1., ..., 0., 0., 0.]])},\n 'harness_hendrycksTest_sociology_5': {'correctness': array([[1., 0., 1., ..., 1., 1., 1.],\n         [1., 1., 1., ..., 1., 1., 1.],\n         [1., 1., 1., ..., 0., 1., 1.],\n         ...,\n         [0., 0., 0., ..., 0., 0., 0.],\n         [1., 1., 1., ..., 1., 1., 1.],\n         [0., 0., 0., ..., 1., 0., 1.]])},\n 'harness_hendrycksTest_us_foreign_policy_5': {'correctness': array([[1., 1., 1., ..., 0., 0., 1.],\n         [0., 0., 0., ..., 0., 0., 0.],\n         [0., 1., 0., ..., 1., 1., 1.],\n         ...,\n         [1., 1., 1., ..., 1., 1., 1.],\n         [1., 0., 1., ..., 1., 1., 1.],\n         [1., 1., 1., ..., 1., 1., 1.]])},\n 'harness_hendrycksTest_virology_5': {'correctness': array([[1., 0., 1., ..., 1., 1., 0.],\n         [1., 1., 1., ..., 0., 1., 0.],\n         [0., 0., 0., ..., 0., 0., 1.],\n         ...,\n         [1., 0., 1., ..., 0., 1., 0.],\n         [0., 0., 0., ..., 0., 0., 0.],\n         [0., 1., 0., ..., 0., 0., 0.]])},\n 'harness_hendrycksTest_world_religions_5': {'correctness': array([[1., 1., 1., ..., 1., 1., 1.],\n         [1., 1., 1., ..., 0., 0., 0.],\n         [0., 1., 0., ..., 0., 1., 1.],\n         ...,\n         [1., 1., 1., ..., 1., 1., 1.],\n         [1., 1., 1., ..., 1., 1., 1.],\n         [0., 0., 0., ..., 0., 0., 0.]])},\n 'harness_arc_challenge_25': {'correctness': array([[1., 1., 1., ..., 1., 1., 0.],\n         [1., 1., 1., ..., 1., 1., 1.],\n         [1., 1., 1., ..., 0., 0., 0.],\n         ...,\n         [0., 0., 0., ..., 0., 0., 0.],\n         [1., 0., 0., ..., 0., 0., 0.],\n         [0., 0., 0., ..., 1., 1., 1.]])},\n 'harness_hellaswag_10': {'correctness': array([[1., 1., 1., ..., 1., 1., 1.],\n         [1., 1., 1., ..., 1., 1., 1.],\n         [1., 1., 1., ..., 1., 1., 1.],\n         ...,\n         [1., 1., 1., ..., 0., 0., 0.],\n         [1., 0., 1., ..., 1., 1., 1.],\n         [1., 1., 1., ..., 1., 1., 1.]])},\n 'harness_truthfulqa_mc_0': {'correctness': array([[9.99999845e-01, 8.89032903e-01, 9.92564208e-01, ...,\n          7.46876110e-01, 7.15131394e-01, 9.98682890e-01],\n         [1.00000000e+00, 9.88002967e-01, 9.99994430e-01, ...,\n          9.73910533e-01, 9.98436596e-01, 9.99991261e-01],\n         [9.99914313e-01, 3.74911027e-01, 5.89841542e-01, ...,\n          5.47387520e-01, 9.78279936e-01, 9.90886300e-01],\n         ...,\n         [9.96129643e-01, 1.88564790e-01, 4.67896996e-01, ...,\n          6.79433956e-01, 1.55096167e-02, 4.94916233e-01],\n         [9.75148886e-01, 6.95552956e-01, 4.99738738e-01, ...,\n          4.11856229e-01, 9.98996505e-01, 8.42313878e-01],\n         [7.69919595e-04, 3.86871328e-04, 4.44807238e-05, ...,\n          2.94058431e-03, 2.76339889e-06, 1.47273797e-05]])},\n 'harness_winogrande_5': {'correctness': array([[1., 1., 0., ..., 1., 1., 1.],\n         [1., 1., 1., ..., 1., 1., 1.],\n         [0., 1., 1., ..., 1., 1., 0.],\n         ...,\n         [0., 1., 1., ..., 1., 1., 1.],\n         [1., 1., 1., ..., 1., 1., 1.],\n         [1., 1., 0., ..., 1., 1., 0.]])},\n 'harness_gsm8k_5': {'correctness': array([[1., 1., 0., ..., 0., 0., 0.],\n         [1., 1., 1., ..., 0., 0., 0.],\n         [1., 0., 0., ..., 0., 0., 0.],\n         ...,\n         [1., 0., 1., ..., 0., 0., 0.],\n         [1., 0., 1., ..., 0., 0., 0.],\n         [0., 0., 0., ..., 0., 0., 0.]])}}"
     },
     "execution_count": 10,
     "metadata": {},
     "output_type": "execute_result"
    }
   ],
   "source": [
    "data[\"data\"]"
   ],
   "metadata": {
    "collapsed": false,
    "ExecuteTime": {
     "end_time": "2024-03-19T14:57:20.443969Z",
     "start_time": "2024-03-19T14:57:20.372136Z"
    }
   },
   "id": "5b5cc28d9fe4886e",
   "execution_count": 10
  },
  {
   "cell_type": "markdown",
   "source": [
    "The `data` file does not have the prompts nor the raw responses from the LLMs. I don't even know if those are available for the Open Leaderboard."
   ],
   "metadata": {
    "collapsed": false
   },
   "id": "67f1fc2018156a79"
  },
  {
   "cell_type": "markdown",
   "id": "87d8135b-e9ec-468a-85a7-3cd3fc3d31fe",
   "metadata": {},
   "source": [
    "Below, we will process the data so all correctness scores (for all scenarios) are stored in $Y$. The dictionaries `scenarios_position` and `subscenarios_position` give the position of scenarios/subscenarios correctness scores in $Y$."
   ]
  },
  {
   "cell_type": "code",
   "execution_count": 11,
   "id": "ee09c25b-2dc4-4403-a972-9fb05cfe917b",
   "metadata": {
    "ExecuteTime": {
     "end_time": "2024-03-19T14:57:43.846574Z",
     "start_time": "2024-03-19T14:57:43.576003Z"
    }
   },
   "outputs": [
    {
     "data": {
      "text/plain": "(395, 28659)"
     },
     "execution_count": 11,
     "metadata": {},
     "output_type": "execute_result"
    }
   ],
   "source": [
    "scenarios_position, subscenarios_position = prepare_data(scenarios, data)\n",
    "Y = create_responses(scenarios, data)\n",
    "Y.shape"
   ]
  },
  {
   "cell_type": "markdown",
   "source": [
    "395 models, 28k+ instances (pooled across datasets)"
   ],
   "metadata": {
    "collapsed": false
   },
   "id": "c25b6fab7b25f378"
  },
  {
   "cell_type": "markdown",
   "id": "e002485a-1e82-409b-aaf2-ddb6a82bc315",
   "metadata": {},
   "source": [
    "For example, below you can see the scores for MMLU:"
   ]
  },
  {
   "cell_type": "code",
   "execution_count": 6,
   "id": "c4dd9649-ba75-49c0-92fe-b00d2afc252e",
   "metadata": {},
   "outputs": [
    {
     "data": {
      "text/plain": [
       "(array([[0., 0., 1., ..., 1., 1., 0.],\n",
       "        [0., 0., 1., ..., 1., 1., 0.],\n",
       "        [0., 0., 1., ..., 1., 1., 0.],\n",
       "        ...,\n",
       "        [0., 0., 1., ..., 1., 1., 0.],\n",
       "        [0., 0., 1., ..., 1., 1., 0.],\n",
       "        [1., 0., 1., ..., 1., 1., 0.]]),\n",
       " (395, 14042))"
      ]
     },
     "execution_count": 6,
     "metadata": {},
     "output_type": "execute_result"
    }
   ],
   "source": [
    "Y[:, scenarios_position['mmlu']], Y[:, scenarios_position['mmlu']].shape"
   ]
  },
  {
   "cell_type": "markdown",
   "id": "98d062bc-1efe-4527-b40c-96fc295e05fe",
   "metadata": {},
   "source": [
    "For scenarios that have multiple subscenarios, it is usually the case that we want to give equal importance to individual subscenarios when computing the aggregated performance in that scenario. This is equivalent to using a weighted average when computing the aggregated performance. We will create balance_weights, a vector of weights to help us compute those weighted averages. These weights will be different than one only for MMLU, which is the only scenario with multiple subscenarios.\n",
    "\n",
    "We will use this when choosing the IRT dimension."
   ]
  },
  {
   "cell_type": "code",
   "execution_count": 13,
   "id": "25c2e717-c575-4b0c-8067-15574c3dde3a",
   "metadata": {
    "ExecuteTime": {
     "end_time": "2024-03-19T14:58:38.540471Z",
     "start_time": "2024-03-19T14:58:38.533100Z"
    }
   },
   "outputs": [],
   "source": [
    "balance_weights = np.ones(Y.shape[1])\n",
    "\n",
    "N = len(scenarios_position['mmlu'])\n",
    "n_sub = len(scenarios['mmlu'])\n",
    "for sub in scenarios['mmlu']:\n",
    "    n_i = len(subscenarios_position['mmlu'][sub])\n",
    "    balance_weights[subscenarios_position['mmlu'][sub]] = N / (n_sub * n_i)"
   ]
  },
  {
   "cell_type": "markdown",
   "id": "9f4dd3af-2d50-4ed5-bc36-09acf3f987fc",
   "metadata": {},
   "source": [
    "We can see below that first averaging within subscenarios and then computing a simple average is equivalent to using a weighted average from the beginning:"
   ]
  },
  {
   "cell_type": "code",
   "execution_count": 8,
   "id": "85903718-e30c-433b-b407-74fc9ebb05eb",
   "metadata": {},
   "outputs": [
    {
     "data": {
      "text/plain": [
       "2.322333605307685e-14"
      ]
     },
     "execution_count": 8,
     "metadata": {},
     "output_type": "execute_result"
    }
   ],
   "source": [
    "accs1 = np.mean([Y[:, subscenarios_position['mmlu'][sub]].mean(axis=1) for sub in scenarios['mmlu']], axis=0)\n",
    "accs2 = (balance_weights * Y)[:, scenarios_position['mmlu']].mean(axis=1)\n",
    "\n",
    "np.abs(accs1 - accs2).mean()"
   ]
  },
  {
   "cell_type": "markdown",
   "id": "d106b620-7fe0-49bb-a8ac-3a946c15f751",
   "metadata": {},
   "source": [
    "## Obtaining estimates"
   ]
  },
  {
   "cell_type": "markdown",
   "id": "844c4412-ae69-4184-b106-191a1c151736",
   "metadata": {},
   "source": [
    "Let's split the data in train and test (recent models are placed in the test set). We will not used the training par in this notebook, since they were already used in `anchor_points.ipynb` and `training_irt.ipynb` to obtain anchor points and train the IRT model. We will not discretize $Y$ in the evaluation time, but that can be done if the user thinks it's needed."
   ]
  },
  {
   "cell_type": "code",
   "execution_count": 15,
   "id": "cf9a448b-c1db-41f1-8965-b1fdde2b10a3",
   "metadata": {
    "ExecuteTime": {
     "end_time": "2024-03-19T14:59:19.928907Z",
     "start_time": "2024-03-19T14:59:19.925201Z"
    }
   },
   "outputs": [],
   "source": [
    "Y_test = Y[:100]\n",
    "Y_train = Y[100:]"
   ]
  },
  {
   "cell_type": "markdown",
   "id": "ab3c35a9-926c-430e-914e-c9ff726e1ed7",
   "metadata": {},
   "source": [
    "### Using anchor points to estimate performance in the test set and reporting the average prediction error"
   ]
  },
  {
   "cell_type": "markdown",
   "id": "b8510538-0287-428a-9a3b-fdb2b7be7ac5",
   "metadata": {},
   "source": [
    "Loading"
   ]
  },
  {
   "cell_type": "code",
   "execution_count": 16,
   "id": "3a906aa1-dbb3-41f1-bbde-a2e18aefc8b3",
   "metadata": {
    "ExecuteTime": {
     "end_time": "2024-03-19T14:59:27.278361Z",
     "start_time": "2024-03-19T14:59:27.270010Z"
    }
   },
   "outputs": [],
   "source": [
    "with open('data/anchor.pickle', 'rb') as handle:\n",
    "    anchor = pickle.load(handle)\n",
    "\n",
    "anchor_points = anchor['anchor_points']\n",
    "anchor_weights = anchor['anchor_weights']"
   ]
  },
  {
   "cell_type": "code",
   "outputs": [
    {
     "name": "stdout",
     "output_type": "stream",
     "text": [
      "harness_truthfulqa_mc_0 (100,)\n",
      "gsm8k (100,)\n",
      "winogrande (100,)\n",
      "arc (100,)\n",
      "hellaswag (100,)\n",
      "mmlu (100,)\n"
     ]
    }
   ],
   "source": [
    "for key in anchor_points:\n",
    "    print(key, anchor_points[key].shape)"
   ],
   "metadata": {
    "collapsed": false,
    "ExecuteTime": {
     "end_time": "2024-03-19T15:00:22.681063Z",
     "start_time": "2024-03-19T15:00:22.666796Z"
    }
   },
   "id": "a3336a217ddd8c1d",
   "execution_count": 21
  },
  {
   "cell_type": "markdown",
   "source": [
    "Those are the 100 anchors for each of the 6 datasets."
   ],
   "metadata": {
    "collapsed": false
   },
   "id": "1d8e2627f8fb9832"
  },
  {
   "cell_type": "code",
   "outputs": [
    {
     "data": {
      "text/plain": "(95, 28659)"
     },
     "execution_count": 27,
     "metadata": {},
     "output_type": "execute_result"
    }
   ],
   "source": [
    "Y_test.shape"
   ],
   "metadata": {
    "collapsed": false,
    "ExecuteTime": {
     "end_time": "2024-03-19T15:02:36.044016Z",
     "start_time": "2024-03-19T15:02:36.035082Z"
    }
   },
   "id": "44265a74e767ff09",
   "execution_count": 27
  },
  {
   "cell_type": "markdown",
   "id": "6e4445d4-c36a-4240-b907-9c8889cf249c",
   "metadata": {},
   "source": [
    "In practice, `Y_test` would be filled with NaNs except in the indices given `seen_items` below:\n",
    "\n",
    "`seen_items = np.hstack([np.array(scenarios_position[scenario])[anchor_points[scenario]] for scenario in scenarios.keys()]).tolist()`"
   ]
  },
  {
   "cell_type": "markdown",
   "id": "8e2164d4-e9ca-4040-9f59-e2140636ae1c",
   "metadata": {},
   "source": [
    "Computing estimates (this uses simply the weighted average of the performances on the anchor points)"
   ]
  },
  {
   "cell_type": "code",
   "execution_count": 28,
   "id": "4a1fe3ab-a404-4947-9cbf-ac17239b05d4",
   "metadata": {
    "ExecuteTime": {
     "end_time": "2024-03-19T15:02:41.972728Z",
     "start_time": "2024-03-19T15:02:41.890753Z"
    }
   },
   "outputs": [
    {
     "name": "stdout",
     "output_type": "stream",
     "text": [
      "scenario: harness_truthfulqa_mc_0, avg. error: 0.016\n",
      "scenario: gsm8k, avg. error: 0.019\n",
      "scenario: winogrande, avg. error: 0.024\n",
      "scenario: arc, avg. error: 0.023\n",
      "scenario: hellaswag, avg. error: 0.020\n",
      "scenario: mmlu, avg. error: 0.028\n"
     ]
    }
   ],
   "source": [
    "preds = {}\n",
    "for scenario in scenarios.keys():\n",
    "    Y_anchor = Y_test[:, scenarios_position[scenario]][:, anchor_points[scenario]]\n",
    "    preds[scenario] = (Y_anchor * anchor_weights[scenario]).sum(axis=1)  # Predictions\n",
    "    true = (balance_weights * Y_test)[:, scenarios_position[scenario]].mean(axis=1)  # True performance\n",
    "\n",
    "    print(f\"scenario: {scenario}, avg. error: {np.abs(preds[scenario] - true).mean():.3f}\")"
   ]
  },
  {
   "cell_type": "code",
   "outputs": [
    {
     "data": {
      "text/plain": "(95, 100)"
     },
     "execution_count": 31,
     "metadata": {},
     "output_type": "execute_result"
    }
   ],
   "source": [
    "Y_anchor.shape  # the evaluation results on the anchor points for each of the 95 test models."
   ],
   "metadata": {
    "collapsed": false,
    "ExecuteTime": {
     "end_time": "2024-03-19T15:03:13.215666Z",
     "start_time": "2024-03-19T15:03:13.208045Z"
    }
   },
   "id": "3f651bf58d1cdd78",
   "execution_count": 31
  },
  {
   "cell_type": "markdown",
   "id": "e640d18f-066f-4825-9770-3db5584af4d9",
   "metadata": {},
   "source": [
    "### Combining anchor points with IRT to estimate performance in the test set and reporting the average prediction error\n",
    "\n",
    "Here is where the instance-level predictions with IRT are obtained."
   ]
  },
  {
   "cell_type": "markdown",
   "id": "ba9ca27c-1105-4204-a01a-a98785bcacef",
   "metadata": {},
   "source": [
    "Loading IRT parameter estimates and recording all seen examples indices"
   ]
  },
  {
   "cell_type": "code",
   "execution_count": 32,
   "id": "72850d84-42bf-4eae-ab70-ac7facb49be3",
   "metadata": {
    "ExecuteTime": {
     "end_time": "2024-03-19T15:04:35.996005Z",
     "start_time": "2024-03-19T15:04:35.504244Z"
    }
   },
   "outputs": [],
   "source": [
    "A, B, _ = load_irt_parameters('data/irt_model/')\n",
    "seen_items = np.hstack(\n",
    "    [np.array(scenarios_position[scenario])[anchor_points[scenario]] for scenario in scenarios.keys()]).tolist()\n",
    "unseen_items = [i for i in range(Y_train.shape[1]) if i not in seen_items]"
   ]
  },
  {
   "cell_type": "code",
   "outputs": [
    {
     "data": {
      "text/plain": "((1, 10, 28659), (1, 1, 28659))"
     },
     "execution_count": 34,
     "metadata": {},
     "output_type": "execute_result"
    }
   ],
   "source": [
    "A.shape, B.shape"
   ],
   "metadata": {
    "collapsed": false,
    "ExecuteTime": {
     "end_time": "2024-03-19T15:04:55.167814Z",
     "start_time": "2024-03-19T15:04:55.159237Z"
    }
   },
   "id": "33a5fe11471e04ec",
   "execution_count": 34
  },
  {
   "cell_type": "markdown",
   "source": [
    "10-dimensional IRT was used here; A and B are the item parameters "
   ],
   "metadata": {
    "collapsed": false
   },
   "id": "f884b7c045217aae"
  },
  {
   "cell_type": "markdown",
   "id": "ab64f238-4277-49ef-b09f-4bdc26e0ebe6",
   "metadata": {},
   "source": [
    "Estimating ability parameters for test LLMs"
   ]
  },
  {
   "cell_type": "code",
   "execution_count": 36,
   "id": "c7757ecd-d79d-413e-a80c-5519e7a1ebee",
   "metadata": {
    "ExecuteTime": {
     "end_time": "2024-03-19T15:06:15.018831Z",
     "start_time": "2024-03-19T15:06:02.598682Z"
    }
   },
   "outputs": [
    {
     "name": "stderr",
     "output_type": "stream",
     "text": [
      "100%|██████████| 95/95 [00:12<00:00,  7.67it/s]\n"
     ]
    }
   ],
   "source": [
    "thetas = [estimate_ability_parameters(Y_test[j][seen_items], A[:, :, seen_items], B[:, :, seen_items]) for j in\n",
    "          tqdm(range(Y_test.shape[0]))]"
   ]
  },
  {
   "cell_type": "markdown",
   "id": "7c9225ff-b94b-4e22-b212-8ecda77074c2",
   "metadata": {},
   "source": [
    "#### p-IRT\n",
    "\n",
    "This is where the predictions for the unseen samples are actually obtained. "
   ]
  },
  {
   "cell_type": "code",
   "outputs": [
    {
     "data": {
      "text/plain": "95"
     },
     "execution_count": 37,
     "metadata": {},
     "output_type": "execute_result"
    }
   ],
   "source": [
    "Y_test.shape[0]"
   ],
   "metadata": {
    "collapsed": false,
    "ExecuteTime": {
     "end_time": "2024-03-19T15:07:24.724086Z",
     "start_time": "2024-03-19T15:07:24.707391Z"
    }
   },
   "id": "33dad6fae70d3b1c",
   "execution_count": 37
  },
  {
   "cell_type": "code",
   "execution_count": 42,
   "id": "7129272a-808b-41ef-a31b-948236ff1d48",
   "metadata": {
    "ExecuteTime": {
     "end_time": "2024-03-19T15:11:04.216122Z",
     "start_time": "2024-03-19T15:11:03.496336Z"
    }
   },
   "outputs": [
    {
     "name": "stdout",
     "output_type": "stream",
     "text": [
      "scenario: harness_truthfulqa_mc_0, avg. error: 0.005\n"
     ]
    }
   ],
   "source": [
    "n_models = 2  # Y_test.shape[0]\n",
    "\n",
    "pirt_preds = {}\n",
    "for scenario in scenarios.keys():\n",
    "\n",
    "    ind_seen = [u for u in seen_items if u in scenarios_position[scenario]]\n",
    "    ind_unseen = [u for u in unseen_items if u in scenarios_position[scenario]]\n",
    "    pirt_lambd = Y_anchor.shape[1] / len(scenarios_position[scenario])\n",
    "\n",
    "    pirt_pred = []\n",
    "\n",
    "    for j in range(n_models):\n",
    "        data_part = (balance_weights * Y_test)[j, ind_seen].mean()\n",
    "        instance_level_predictions = item_curve(thetas[j], A, B)\n",
    "        irt_part = (balance_weights * instance_level_predictions)[0, ind_unseen].mean()\n",
    "        pirt_pred.append(pirt_lambd * data_part + (1 - pirt_lambd) * irt_part)\n",
    "\n",
    "    pirt_preds[scenario] = np.array(pirt_pred)  # Predictions\n",
    "    true = (balance_weights * Y_test)[0:n_models, scenarios_position[scenario]].mean(axis=1)  # True performance\n",
    "\n",
    "    print(f\"scenario: {scenario}, avg. error: {np.abs(pirt_preds[scenario] - true).mean():.3f}\")\n",
    "    break"
   ]
  },
  {
   "cell_type": "code",
   "outputs": [
    {
     "data": {
      "text/plain": "(1, 28659)"
     },
     "execution_count": 43,
     "metadata": {},
     "output_type": "execute_result"
    }
   ],
   "source": [
    "instance_level_predictions.shape"
   ],
   "metadata": {
    "collapsed": false,
    "ExecuteTime": {
     "end_time": "2024-03-19T15:11:08.069691Z",
     "start_time": "2024-03-19T15:11:08.060419Z"
    }
   },
   "id": "824091350f5c399d",
   "execution_count": 43
  },
  {
   "cell_type": "code",
   "outputs": [
    {
     "data": {
      "text/plain": "array([9.07064067e-01, 9.86583761e-01, 6.75221164e-01, 3.74420658e-01,\n       2.74862148e-01, 3.69863101e-04, 9.99407756e-01, 1.07235660e-02,\n       8.90413175e-01, 6.83504866e-01])"
     },
     "execution_count": 48,
     "metadata": {},
     "output_type": "execute_result"
    }
   ],
   "source": [
    "instance_level_predictions[0, 0:10]"
   ],
   "metadata": {
    "collapsed": false,
    "ExecuteTime": {
     "end_time": "2024-03-19T15:11:46.848496Z",
     "start_time": "2024-03-19T15:11:46.839767Z"
    }
   },
   "id": "8cd28fd030bd0201",
   "execution_count": 48
  },
  {
   "cell_type": "code",
   "outputs": [
    {
     "data": {
      "text/plain": "(95, 28659)"
     },
     "execution_count": 49,
     "metadata": {},
     "output_type": "execute_result"
    }
   ],
   "source": [
    "Y_test"
   ],
   "metadata": {
    "collapsed": false,
    "ExecuteTime": {
     "end_time": "2024-03-19T15:11:49.380087Z",
     "start_time": "2024-03-19T15:11:49.372437Z"
    }
   },
   "id": "263708617e7bbb22",
   "execution_count": 49
  },
  {
   "cell_type": "markdown",
   "source": [
    "The above code obtains only the average performance and reports the value of that. I want instead to evaluate the performance in predicting the instance-level performance."
   ],
   "metadata": {
    "collapsed": false
   },
   "id": "8de8ed965ff78bd7"
  },
  {
   "cell_type": "markdown",
   "source": [
    "#### Instance-level performance evaluation"
   ],
   "metadata": {
    "collapsed": false
   },
   "id": "978180d943399db9"
  },
  {
   "cell_type": "code",
   "outputs": [],
   "source": [
    "import pandas as pd"
   ],
   "metadata": {
    "collapsed": false,
    "ExecuteTime": {
     "end_time": "2024-03-19T15:21:33.578733Z",
     "start_time": "2024-03-19T15:21:33.574689Z"
    }
   },
   "id": "c1b0d44452b528d5",
   "execution_count": 64
  },
  {
   "cell_type": "code",
   "outputs": [],
   "source": [
    "def brierDecomp(preds, outs):\n",
    "    brier = 1 / len(preds) * sum((preds - outs) ** 2)\n",
    "    ## bin predictions\n",
    "    bins = np.linspace(0, 1, 11)\n",
    "    binCenters = (bins[:-1] + bins[1:]) / 2\n",
    "    binPredInds = np.digitize(preds, binCenters)\n",
    "    binnedPreds = bins[binPredInds]\n",
    "\n",
    "    binTrueFreqs = np.zeros(10)\n",
    "    binPredFreqs = np.zeros(10)\n",
    "    binCounts = np.zeros(10)\n",
    "\n",
    "    for i in range(10):\n",
    "        idx = (preds >= bins[i]) & (preds < bins[i + 1])\n",
    "\n",
    "        binTrueFreqs[i] = np.sum(outs[idx]) / np.sum(idx) if np.sum(idx) > 0 else 0\n",
    "        # print(np.sum(outs[idx]), np.sum(idx), binTrueFreqs[i])\n",
    "        binPredFreqs[i] = np.mean(preds[idx]) if np.sum(idx) > 0 else 0\n",
    "        binCounts[i] = np.sum(idx)\n",
    "\n",
    "    calibration = np.sum(binCounts * (binTrueFreqs - binPredFreqs) ** 2) / np.sum(binCounts) if np.sum(\n",
    "        binCounts) > 0 else 0\n",
    "    refinement = np.sum(binCounts * (binTrueFreqs * (1 - binTrueFreqs))) / np.sum(binCounts) if np.sum(\n",
    "        binCounts) > 0 else 0\n",
    "    # Compute refinement component\n",
    "    # refinement = brier - calibration\n",
    "    return brier, calibration, refinement\n",
    "\n"
   ],
   "metadata": {
    "collapsed": false,
    "ExecuteTime": {
     "end_time": "2024-03-19T15:18:48.418431Z",
     "start_time": "2024-03-19T15:18:48.408253Z"
    }
   },
   "id": "5e06f64857f3fc27",
   "execution_count": 57
  },
  {
   "cell_type": "markdown",
   "source": [
    "I will also compute the Brier score, calibration and refinement for each model and scenario and also report that obtained by using as constant prediction the average performance in the training set. "
   ],
   "metadata": {
    "collapsed": false
   },
   "id": "8254be4225869ce0"
  },
  {
   "cell_type": "code",
   "outputs": [
    {
     "data": {
      "text/plain": "(95, 28659)"
     },
     "execution_count": 51,
     "metadata": {},
     "output_type": "execute_result"
    }
   ],
   "source": [
    "Y_test.shape"
   ],
   "metadata": {
    "collapsed": false,
    "ExecuteTime": {
     "end_time": "2024-03-19T15:17:43.679908Z",
     "start_time": "2024-03-19T15:17:43.667911Z"
    }
   },
   "id": "2aa3596cb33c2e30",
   "execution_count": 51
  },
  {
   "cell_type": "code",
   "outputs": [
    {
     "name": "stderr",
     "output_type": "stream",
     "text": [
      "/tmp/ipykernel_25271/418544718.py:19: FutureWarning: The behavior of DataFrame concatenation with empty or all-NA entries is deprecated. In a future version, this will no longer exclude empty or all-NA columns when determining the result dtypes. To retain the old behavior, exclude the relevant entries before the concat operation.\n",
      "  res_df = pd.concat([res_df, pd.DataFrame({'scenario': [scenario], 'model': [j],  'prediction_type': ['instance_level'], 'brier': [brier], 'calibration': [calibration], 'refinement': [refinement]})])\n",
      "/tmp/ipykernel_25271/418544718.py:31: FutureWarning: The behavior of DataFrame concatenation with empty or all-NA entries is deprecated. In a future version, this will no longer exclude empty or all-NA columns when determining the result dtypes. To retain the old behavior, exclude the relevant entries before the concat operation.\n",
      "  res_df_unique = pd.concat([res_df_unique, pd.DataFrame({'scenario': [scenario], 'model': [j], 'brier': [brier], 'calibration': [calibration], 'refinement': [refinement], 'brirer_baseline': [brier_baseline], 'calibration_baseline': [calibration_baseline], 'refinement_baseline': [refinement_baseline]})])\n"
     ]
    }
   ],
   "source": [
    "res_df = pd.DataFrame(columns=['scenario', 'model', 'prediction_type', 'brier', 'calibration', 'refinement'])\n",
    "res_df_unique = pd.DataFrame(columns=['scenario', 'model', 'brier', 'calibration', 'refinement', 'brirer_baseline', 'calibration_baseline', 'refinement_baseline'])\n",
    "\n",
    "n_models = Y_test.shape[0]\n",
    "\n",
    "for scenario in scenarios.keys():\n",
    "\n",
    "    ind_seen = [u for u in seen_items if u in scenarios_position[scenario]]\n",
    "    ind_unseen = [u for u in unseen_items if u in scenarios_position[scenario]]\n",
    "\n",
    "    for j in range(n_models):\n",
    "        instance_level_predictions = item_curve(thetas[j], A, B)[0, ind_unseen]\n",
    "        true = Y_test[j, ind_unseen]\n",
    "        \n",
    "        # compute Brier score:\n",
    "        brier, calibration, refinement = brierDecomp(instance_level_predictions, true)\n",
    "\n",
    "        # concat to dataframe\n",
    "        res_df = pd.concat([res_df, pd.DataFrame({'scenario': [scenario], 'model': [j],  'prediction_type': ['instance_level'], 'brier': [brier], 'calibration': [calibration], 'refinement': [refinement]})])\n",
    "        \n",
    "        # now compute the baseline brier score\n",
    "        # average performance in the seen items:\n",
    "        true_seen = Y_test[j, ind_seen]\n",
    "        average_train_performance = true_seen.mean()\n",
    "        brier_baseline, calibration_baseline, refinement_baseline = brierDecomp(np.ones(len(ind_unseen)) * average_train_performance, true)\n",
    "        \n",
    "        # concat to dataframe\n",
    "        res_df = pd.concat([res_df, pd.DataFrame({'scenario': [scenario], 'model': [j], 'prediction_type': ['baseline'], 'brier': [brier_baseline], 'calibration': [calibration_baseline], 'refinement': [refinement_baseline]})])\n",
    "\n",
    "        # also add to the unique dataframe\n",
    "        res_df_unique = pd.concat([res_df_unique, pd.DataFrame({'scenario': [scenario], 'model': [j], 'brier': [brier], 'calibration': [calibration], 'refinement': [refinement], 'brirer_baseline': [brier_baseline], 'calibration_baseline': [calibration_baseline], 'refinement_baseline': [refinement_baseline]})])"
   ],
   "metadata": {
    "collapsed": false,
    "ExecuteTime": {
     "end_time": "2024-03-19T15:29:17.323953Z",
     "start_time": "2024-03-19T15:28:54.384914Z"
    }
   },
   "id": "4095450a58667d30",
   "execution_count": 75
  },
  {
   "cell_type": "code",
   "outputs": [],
   "source": [
    "# plot the results:\n",
    "import seaborn as sns"
   ],
   "metadata": {
    "collapsed": false
   },
   "id": "290289ab7d7c727a",
   "execution_count": 70
  },
  {
   "cell_type": "code",
   "outputs": [
    {
     "name": "stderr",
     "output_type": "stream",
     "text": [
      "/tmp/ipykernel_25271/3844083720.py:2: FutureWarning: \n",
      "\n",
      "`shade` is now deprecated in favor of `fill`; setting `fill=True`.\n",
      "This will become an error in seaborn v0.14.0; please update your code.\n",
      "\n",
      "  sns.kdeplot(res_df, x='brier', hue='prediction_type', shade=True)\n",
      "/home/lorenzo/miniconda3/envs/recog-LLM_capabilities_conda/lib/python3.11/site-packages/seaborn/_oldcore.py:1498: FutureWarning: is_categorical_dtype is deprecated and will be removed in a future version. Use isinstance(dtype, CategoricalDtype) instead\n",
      "  if pd.api.types.is_categorical_dtype(vector):\n",
      "/home/lorenzo/miniconda3/envs/recog-LLM_capabilities_conda/lib/python3.11/site-packages/seaborn/_oldcore.py:1498: FutureWarning: is_categorical_dtype is deprecated and will be removed in a future version. Use isinstance(dtype, CategoricalDtype) instead\n",
      "  if pd.api.types.is_categorical_dtype(vector):\n",
      "/home/lorenzo/miniconda3/envs/recog-LLM_capabilities_conda/lib/python3.11/site-packages/seaborn/_oldcore.py:1498: FutureWarning: is_categorical_dtype is deprecated and will be removed in a future version. Use isinstance(dtype, CategoricalDtype) instead\n",
      "  if pd.api.types.is_categorical_dtype(vector):\n",
      "/home/lorenzo/miniconda3/envs/recog-LLM_capabilities_conda/lib/python3.11/site-packages/seaborn/_oldcore.py:1498: FutureWarning: is_categorical_dtype is deprecated and will be removed in a future version. Use isinstance(dtype, CategoricalDtype) instead\n",
      "  if pd.api.types.is_categorical_dtype(vector):\n",
      "/home/lorenzo/miniconda3/envs/recog-LLM_capabilities_conda/lib/python3.11/site-packages/seaborn/_oldcore.py:1119: FutureWarning: use_inf_as_na option is deprecated and will be removed in a future version. Convert inf values to NaN before operating instead.\n",
      "  with pd.option_context('mode.use_inf_as_na', True):\n"
     ]
    },
    {
     "data": {
      "text/plain": "<Axes: xlabel='brier', ylabel='Density'>"
     },
     "execution_count": 87,
     "metadata": {},
     "output_type": "execute_result"
    },
    {
     "data": {
      "text/plain": "<Figure size 640x480 with 1 Axes>",
      "image/png": "[encoded data removed]"
     },
     "metadata": {},
     "output_type": "display_data"
    }
   ],
   "source": [
    "# plot the distribution of the two Brier scores:\n",
    "sns.kdeplot(res_df, x='brier', hue='prediction_type', shade=True)"
   ],
   "metadata": {
    "collapsed": false,
    "ExecuteTime": {
     "end_time": "2024-03-19T15:36:14.060784Z",
     "start_time": "2024-03-19T15:36:13.237816Z"
    }
   },
   "id": "dbb9c9505a1ff2e1",
   "execution_count": 87
  },
  {
   "cell_type": "code",
   "outputs": [
    {
     "name": "stderr",
     "output_type": "stream",
     "text": [
      "/tmp/ipykernel_25271/2330421406.py:3: FutureWarning: \n",
      "\n",
      "`shade` is now deprecated in favor of `fill`; setting `fill=True`.\n",
      "This will become an error in seaborn v0.14.0; please update your code.\n",
      "\n",
      "  sns.kdeplot(res_df_unique[\"brier_diff\"], shade=True)\n",
      "/home/lorenzo/miniconda3/envs/recog-LLM_capabilities_conda/lib/python3.11/site-packages/seaborn/_oldcore.py:1498: FutureWarning: is_categorical_dtype is deprecated and will be removed in a future version. Use isinstance(dtype, CategoricalDtype) instead\n",
      "  if pd.api.types.is_categorical_dtype(vector):\n",
      "/home/lorenzo/miniconda3/envs/recog-LLM_capabilities_conda/lib/python3.11/site-packages/seaborn/_oldcore.py:1119: FutureWarning: use_inf_as_na option is deprecated and will be removed in a future version. Convert inf values to NaN before operating instead.\n",
      "  with pd.option_context('mode.use_inf_as_na', True):\n"
     ]
    },
    {
     "data": {
      "text/plain": "<Axes: xlabel='brier_diff', ylabel='Density'>"
     },
     "execution_count": 77,
     "metadata": {},
     "output_type": "execute_result"
    },
    {
     "data": {
      "text/plain": "<Figure size 640x480 with 1 Axes>",
      "image/png": "[encoded data removed]"
     },
     "metadata": {},
     "output_type": "display_data"
    }
   ],
   "source": [
    "# plot the distribution of the difference in brier score\n",
    "res_df_unique[\"brier_diff\"] = res_df_unique[\"brier\"] - res_df_unique[\"brirer_baseline\"]\n",
    "sns.kdeplot(res_df_unique[\"brier_diff\"], shade=True)"
   ],
   "metadata": {
    "collapsed": false,
    "ExecuteTime": {
     "end_time": "2024-03-19T15:29:33.284965Z",
     "start_time": "2024-03-19T15:29:32.724454Z"
    }
   },
   "id": "9d03153a328ebf0a",
   "execution_count": 77
  },
  {
   "cell_type": "code",
   "outputs": [
    {
     "name": "stdout",
     "output_type": "stream",
     "text": [
      "The instance-level prediction is better than the average performance in the training set in 545 cases out of 570 cases (i.e.,  95.6140350877193 %)\n"
     ]
    }
   ],
   "source": [
    "print(\"The instance-level prediction is better than the average performance in the training set in\", (res_df_unique[\"brier_diff\"] < 0).sum(), \"cases out of\", len(res_df_unique), \"cases (i.e., \", (res_df_unique[\"brier_diff\"] < 0).sum() / len(res_df_unique) * 100, \"%)\")"
   ],
   "metadata": {
    "collapsed": false,
    "ExecuteTime": {
     "end_time": "2024-03-19T15:30:47.571931Z",
     "start_time": "2024-03-19T15:30:47.563564Z"
    }
   },
   "id": "e64372b582e1bb45",
   "execution_count": 82
  },
  {
   "cell_type": "markdown",
   "source": [
    "For each scenario, show a barplot with the Brier score for the instance-level predictions and the baseline for each model."
   ],
   "metadata": {
    "collapsed": false
   },
   "id": "92c8bb75a44da222"
  },
  {
   "cell_type": "code",
   "outputs": [
    {
     "name": "stderr",
     "output_type": "stream",
     "text": [
      "/home/lorenzo/miniconda3/envs/recog-LLM_capabilities_conda/lib/python3.11/site-packages/seaborn/_oldcore.py:1498: FutureWarning: is_categorical_dtype is deprecated and will be removed in a future version. Use isinstance(dtype, CategoricalDtype) instead\n",
      "  if pd.api.types.is_categorical_dtype(vector):\n",
      "/home/lorenzo/miniconda3/envs/recog-LLM_capabilities_conda/lib/python3.11/site-packages/seaborn/_oldcore.py:1498: FutureWarning: is_categorical_dtype is deprecated and will be removed in a future version. Use isinstance(dtype, CategoricalDtype) instead\n",
      "  if pd.api.types.is_categorical_dtype(vector):\n",
      "/home/lorenzo/miniconda3/envs/recog-LLM_capabilities_conda/lib/python3.11/site-packages/seaborn/_oldcore.py:1498: FutureWarning: is_categorical_dtype is deprecated and will be removed in a future version. Use isinstance(dtype, CategoricalDtype) instead\n",
      "  if pd.api.types.is_categorical_dtype(vector):\n",
      "/home/lorenzo/miniconda3/envs/recog-LLM_capabilities_conda/lib/python3.11/site-packages/seaborn/_oldcore.py:1498: FutureWarning: is_categorical_dtype is deprecated and will be removed in a future version. Use isinstance(dtype, CategoricalDtype) instead\n",
      "  if pd.api.types.is_categorical_dtype(vector):\n",
      "/home/lorenzo/miniconda3/envs/recog-LLM_capabilities_conda/lib/python3.11/site-packages/seaborn/_oldcore.py:1498: FutureWarning: is_categorical_dtype is deprecated and will be removed in a future version. Use isinstance(dtype, CategoricalDtype) instead\n",
      "  if pd.api.types.is_categorical_dtype(vector):\n",
      "/home/lorenzo/miniconda3/envs/recog-LLM_capabilities_conda/lib/python3.11/site-packages/seaborn/_oldcore.py:1498: FutureWarning: is_categorical_dtype is deprecated and will be removed in a future version. Use isinstance(dtype, CategoricalDtype) instead\n",
      "  if pd.api.types.is_categorical_dtype(vector):\n",
      "/home/lorenzo/miniconda3/envs/recog-LLM_capabilities_conda/lib/python3.11/site-packages/seaborn/_oldcore.py:1498: FutureWarning: is_categorical_dtype is deprecated and will be removed in a future version. Use isinstance(dtype, CategoricalDtype) instead\n",
      "  if pd.api.types.is_categorical_dtype(vector):\n",
      "/home/lorenzo/miniconda3/envs/recog-LLM_capabilities_conda/lib/python3.11/site-packages/seaborn/_oldcore.py:1498: FutureWarning: is_categorical_dtype is deprecated and will be removed in a future version. Use isinstance(dtype, CategoricalDtype) instead\n",
      "  if pd.api.types.is_categorical_dtype(vector):\n",
      "/home/lorenzo/miniconda3/envs/recog-LLM_capabilities_conda/lib/python3.11/site-packages/seaborn/_oldcore.py:1498: FutureWarning: is_categorical_dtype is deprecated and will be removed in a future version. Use isinstance(dtype, CategoricalDtype) instead\n",
      "  if pd.api.types.is_categorical_dtype(vector):\n",
      "/home/lorenzo/miniconda3/envs/recog-LLM_capabilities_conda/lib/python3.11/site-packages/seaborn/_oldcore.py:1498: FutureWarning: is_categorical_dtype is deprecated and will be removed in a future version. Use isinstance(dtype, CategoricalDtype) instead\n",
      "  if pd.api.types.is_categorical_dtype(vector):\n",
      "/home/lorenzo/miniconda3/envs/recog-LLM_capabilities_conda/lib/python3.11/site-packages/seaborn/_oldcore.py:1498: FutureWarning: is_categorical_dtype is deprecated and will be removed in a future version. Use isinstance(dtype, CategoricalDtype) instead\n",
      "  if pd.api.types.is_categorical_dtype(vector):\n",
      "/home/lorenzo/miniconda3/envs/recog-LLM_capabilities_conda/lib/python3.11/site-packages/seaborn/_oldcore.py:1498: FutureWarning: is_categorical_dtype is deprecated and will be removed in a future version. Use isinstance(dtype, CategoricalDtype) instead\n",
      "  if pd.api.types.is_categorical_dtype(vector):\n",
      "/home/lorenzo/miniconda3/envs/recog-LLM_capabilities_conda/lib/python3.11/site-packages/seaborn/_oldcore.py:1498: FutureWarning: is_categorical_dtype is deprecated and will be removed in a future version. Use isinstance(dtype, CategoricalDtype) instead\n",
      "  if pd.api.types.is_categorical_dtype(vector):\n",
      "/home/lorenzo/miniconda3/envs/recog-LLM_capabilities_conda/lib/python3.11/site-packages/seaborn/_oldcore.py:1498: FutureWarning: is_categorical_dtype is deprecated and will be removed in a future version. Use isinstance(dtype, CategoricalDtype) instead\n",
      "  if pd.api.types.is_categorical_dtype(vector):\n",
      "/home/lorenzo/miniconda3/envs/recog-LLM_capabilities_conda/lib/python3.11/site-packages/seaborn/_oldcore.py:1498: FutureWarning: is_categorical_dtype is deprecated and will be removed in a future version. Use isinstance(dtype, CategoricalDtype) instead\n",
      "  if pd.api.types.is_categorical_dtype(vector):\n",
      "/home/lorenzo/miniconda3/envs/recog-LLM_capabilities_conda/lib/python3.11/site-packages/seaborn/_oldcore.py:1498: FutureWarning: is_categorical_dtype is deprecated and will be removed in a future version. Use isinstance(dtype, CategoricalDtype) instead\n",
      "  if pd.api.types.is_categorical_dtype(vector):\n",
      "/home/lorenzo/miniconda3/envs/recog-LLM_capabilities_conda/lib/python3.11/site-packages/seaborn/_oldcore.py:1498: FutureWarning: is_categorical_dtype is deprecated and will be removed in a future version. Use isinstance(dtype, CategoricalDtype) instead\n",
      "  if pd.api.types.is_categorical_dtype(vector):\n"
     ]
    },
    {
     "data": {
      "text/plain": "<seaborn.axisgrid.FacetGrid at 0x7fc8e2b37e90>"
     },
     "execution_count": 83,
     "metadata": {},
     "output_type": "execute_result"
    },
    {
     "data": {
      "text/plain": "<Figure size 3148.75x500 with 6 Axes>",
      "image/png": "[encoded data removed]"
     },
     "metadata": {},
     "output_type": "display_data"
    }
   ],
   "source": [
    "sns.catplot(data=res_df, x='model', y='brier', col=\"scenario\", hue=\"prediction_type\", kind=\"bar\")"
   ],
   "metadata": {
    "collapsed": false,
    "ExecuteTime": {
     "end_time": "2024-03-19T15:31:13.650371Z",
     "start_time": "2024-03-19T15:30:55.826093Z"
    }
   },
   "id": "dbefa83567f46bf5",
   "execution_count": 83
  },
  {
   "cell_type": "markdown",
   "id": "35abee45-0bfe-45a0-86db-78250587ffb5",
   "metadata": {},
   "source": [
    "#### gp-IRT\n",
    "\n",
    "This combines the estimate obtained with the anchor points with the estimate obtained with the IRT model."
   ]
  },
  {
   "cell_type": "markdown",
   "id": "d15b626f-ae61-4f87-a442-36f93fb6f224",
   "metadata": {},
   "source": [
    "Loading lambdas"
   ]
  },
  {
   "cell_type": "code",
   "execution_count": 15,
   "id": "25bb4c62-b38f-41ba-aa07-6279f410674a",
   "metadata": {},
   "outputs": [],
   "source": [
    "with open('data/lambds.pickle', 'rb') as handle:\n",
    "    lambds = pickle.load(handle)"
   ]
  },
  {
   "cell_type": "markdown",
   "id": "ea3343aa-54f2-40cd-8620-97d9b219d65a",
   "metadata": {},
   "source": [
    "Computing estimates and their average errors"
   ]
  },
  {
   "cell_type": "code",
   "execution_count": 16,
   "id": "b5079eb8-7e85-473e-b7de-b4191881288d",
   "metadata": {},
   "outputs": [
    {
     "name": "stdout",
     "output_type": "stream",
     "text": [
      "scenario: harness_truthfulqa_mc_0, avg. error: 0.013\n",
      "scenario: gsm8k, avg. error: 0.018\n",
      "scenario: winogrande, avg. error: 0.013\n",
      "scenario: arc, avg. error: 0.012\n",
      "scenario: hellaswag, avg. error: 0.014\n",
      "scenario: mmlu, avg. error: 0.023\n"
     ]
    }
   ],
   "source": [
    "gpirt_preds = {}\n",
    "for scenario in scenarios.keys():\n",
    "    gpirt_preds[scenario] = lambds[scenario] * preds[scenario] + (1 - lambds[scenario]) * pirt_preds[scenario]\n",
    "    true = (balance_weights * Y_test)[:, scenarios_position[scenario]].mean(axis=1)  # True performance\n",
    "\n",
    "    print(f\"scenario: {scenario}, avg. error: {np.abs(gpirt_preds[scenario] - true).mean():.3f}\")"
   ]
  }
 ],
 "metadata": {
  "kernelspec": {
   "display_name": "Python 3 (ipykernel)",
   "language": "python",
   "name": "python3"
  },
  "language_info": {
   "codemirror_mode": {
    "name": "ipython",
    "version": 3
   },
   "file_extension": ".py",
   "mimetype": "text/x-python",
   "name": "python",
   "nbconvert_exporter": "python",
   "pygments_lexer": "ipython3",
   "version": "3.11.7"
  }
 },
 "nbformat": 4,
 "nbformat_minor": 5
}
