{
 "cells": [
  {
   "cell_type": "code",
   "execution_count": 2,
   "id": "3c5c8822-7d55-4590-8c72-50b527d5abaf",
   "metadata": {},
   "outputs": [],
   "source": [
    "import requests\n",
    "requests.get('https://github.com/felipemaiapolo/tinyBenchmarks/raw/main/tinyBenchmarks/tinyBenchmarks.pkl')\n",
    "\n"
   ]
  },
  {
   "cell_type": "code",
   "execution_count": 3,
   "id": "93d001ee-5ca6-442d-9e91-96db3b8a83d7",
   "metadata": {},
   "outputs": [
    {
     "data": {
      "text/plain": [
       "<Response [200]>"
      ]
     },
     "execution_count": 3,
     "metadata": {},
     "output_type": "execute_result"
    }
   ],
   "source": [
    "https://github.com/felipemaiapolo/tinyBenchmarks/raw/main/tinyBenchmarks/tinyBenchmarks.pkl"
   ]
  },
  {
   "cell_type": "code",
   "execution_count": 6,
   "id": "177c3e41-52c8-4b49-a953-4d248c0b3b82",
   "metadata": {},
   "outputs": [],
   "source": [
    "# Downloading\n",
    "url = \"https://raw.githubusercontent.com/felipemaiapolo/tinyBenchmarks/main/tinyBenchmarks/tinyBenchmarks.pkl\"\n",
    "response = requests.get(url)\n",
    "if response.status_code == 200:\n",
    "    # Write the content to a file\n",
    "    with open(\"tinyBenchmarks.pkl\", \"wb\") as file:\n",
    "        file.write(response.content)"
   ]
  },
  {
   "cell_type": "code",
   "execution_count": null,
   "id": "330656ec-7e00-4a2d-81db-565fe502ab8d",
   "metadata": {},
   "outputs": [],
   "source": []
  }
 ],
 "metadata": {
  "kernelspec": {
   "display_name": "Python 3 (ipykernel)",
   "language": "python",
   "name": "python3"
  },
  "language_info": {
   "codemirror_mode": {
    "name": "ipython",
    "version": 3
   },
   "file_extension": ".py",
   "mimetype": "text/x-python",
   "name": "python",
   "nbconvert_exporter": "python",
   "pygments_lexer": "ipython3",
   "version": "3.11.7"
  }
 },
 "nbformat": 4,
 "nbformat_minor": 5
}
